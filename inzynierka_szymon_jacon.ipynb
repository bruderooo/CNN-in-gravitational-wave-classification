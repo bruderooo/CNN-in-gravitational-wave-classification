{
 "cells": [
  {
   "cell_type": "code",
   "execution_count": null,
   "metadata": {
    "pycharm": {
     "is_executing": true
    }
   },
   "outputs": [],
   "source": [
    "import numpy as np\n",
    "from tensorflow import keras\n",
    "import matplotlib.pyplot as plt"
   ]
  },
  {
   "cell_type": "code",
   "execution_count": null,
   "metadata": {
    "pycharm": {
     "name": "#%%\n"
    }
   },
   "outputs": [],
   "source": [
    "from utils import sampling\n",
    "\n",
    "\n",
    "def make_model(\n",
    "        input_shape,\n",
    "        no_samples=None,\n",
    "        dft=False):\n",
    "\n",
    "    input_layer = keras.layers.Input(input_shape)\n",
    "\n",
    "    if no_samples is not None:\n",
    "        # Tutaj może być tak, że parametr no_samplet jest źle przekazany\n",
    "        # Docs: https://www.tensorflow.org/api_docs/python/tf/keras/layers/Lambda#args_1\n",
    "        input_layer = keras.layers.Lambda(sampling, arguments={'no_samples': no_samples})(input_layer)\n",
    "\n",
    "    if dft:\n",
    "        input_layer = keras.layers.Lambda(dft)(input_layer)\n",
    "\n",
    "    conv = keras.layers.Conv1D(filters=64, kernel_size=3, padding=\"same\")(input_layer)\n",
    "    conv = keras.layers.BatchNormalization()(conv)\n",
    "    conv = keras.layers.ReLU()(conv)\n",
    "\n",
    "    gap = keras.layers.GlobalAveragePooling1D()(conv)\n",
    "\n",
    "    output_layer = keras.layers.Dense(1, activation=\"sigmoid\")(gap)\n",
    "\n",
    "    return keras.models.Model(inputs=input_layer, outputs=output_layer)"
   ]
  },
  {
   "cell_type": "code",
   "execution_count": null,
   "metadata": {
    "pycharm": {
     "name": "#%%\n"
    }
   },
   "outputs": [],
   "source": [
    "model = make_model(input_shape=x_train.shape[1:])\n",
    "keras.utils.plot_model(model, show_shapes=True)"
   ]
  },
  {
   "cell_type": "code",
   "execution_count": null,
   "metadata": {
    "pycharm": {
     "name": "#%%\n"
    }
   },
   "outputs": [],
   "source": [
    "directory = r'G:\\DATA\\gravitational-wave\\train'"
   ]
  },
  {
   "cell_type": "code",
   "execution_count": null,
   "metadata": {},
   "outputs": [],
   "source": [
    "datagen = keras.preprocessing.image_dataset_from_directory(\n",
    "    directory, \n",
    "    color_mode='grayscale',\n",
    "    image_size=(3, 4096)\n",
    ")"
   ]
  },
  {
   "cell_type": "code",
   "execution_count": null,
   "metadata": {},
   "outputs": [],
   "source": []
  }
 ],
 "metadata": {
  "kernelspec": {
   "display_name": "Python 3",
   "language": "python",
   "name": "python3"
  },
  "language_info": {
   "codemirror_mode": {
    "name": "ipython",
    "version": 3
   },
   "file_extension": ".py",
   "mimetype": "text/x-python",
   "name": "python",
   "nbconvert_exporter": "python",
   "pygments_lexer": "ipython3",
   "version": "3.8.8"
  }
 },
 "nbformat": 4,
 "nbformat_minor": 1
}