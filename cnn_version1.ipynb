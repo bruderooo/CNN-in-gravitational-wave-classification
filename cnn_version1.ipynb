{
 "cells": [
  {
   "cell_type": "code",
   "execution_count": 11,
   "metadata": {
    "collapsed": true
   },
   "outputs": [],
   "source": [
    "from tensorflow import keras\n",
    "from tensorflow.keras import layers\n",
    "\n",
    "import matplotlib.pyplot as plt\n",
    "import numpy as np\n",
    "\n",
    "from scipy.signal import resample"
   ]
  },
  {
   "cell_type": "code",
   "execution_count": 3,
   "outputs": [],
   "source": [
    "file = np.load(r'G:\\DATA\\00000e74ad.npy')"
   ],
   "metadata": {
    "collapsed": false,
    "pycharm": {
     "name": "#%%\n"
    }
   }
  },
  {
   "cell_type": "code",
   "execution_count": null,
   "outputs": [],
   "source": [
    "tf.data.Dataset.from_tensor_slices()"
   ],
   "metadata": {
    "collapsed": false,
    "pycharm": {
     "name": "#%%\n"
    }
   }
  },
  {
   "cell_type": "code",
   "execution_count": 16,
   "outputs": [],
   "source": [
    "def return_path(path, file_name):\n",
    "    return f'{path}\\\\{file_name[0]}\\\\{file_name[1]}\\\\{file_name[2]}\\\\{file_name}.npy'"
   ],
   "metadata": {
    "collapsed": false,
    "pycharm": {
     "name": "#%%\n"
    }
   }
  },
  {
   "cell_type": "code",
   "execution_count": null,
   "outputs": [],
   "source": [
    "import pandas as pd\n",
    "from shutil import copyfile\n",
    "# copyfile(src, dst)\n",
    "\n",
    "path_to_file = 'gravitational-wave\\\\training_labels.csv'\n",
    "df = pd.read_csv(path_to_file)\n",
    "\n",
    "for i, (id, target) in df.iterrows():\n",
    "    file = return_path(f'gravitational-wave\\\\train', f'{id}')\n",
    "\n",
    "    path = r'G:\\DATA\\gravitational-wave\\train'\n",
    "\n",
    "    if target == 1:\n",
    "        flag = '\\\\wave\\\\'\n",
    "    else:\n",
    "        flag = '\\\\noise\\\\'\n",
    "\n",
    "    copyfile(file, path + flag + id)"
   ],
   "metadata": {
    "collapsed": false,
    "pycharm": {
     "name": "#%%\n",
     "is_executing": true
    }
   }
  },
  {
   "cell_type": "code",
   "execution_count": null,
   "outputs": [],
   "source": [],
   "metadata": {
    "collapsed": false,
    "pycharm": {
     "name": "#%%\n"
    }
   }
  }
 ],
 "metadata": {
  "kernelspec": {
   "display_name": "Python 3",
   "language": "python",
   "name": "python3"
  },
  "language_info": {
   "codemirror_mode": {
    "name": "ipython",
    "version": 2
   },
   "file_extension": ".py",
   "mimetype": "text/x-python",
   "name": "python",
   "nbconvert_exporter": "python",
   "pygments_lexer": "ipython2",
   "version": "2.7.6"
  }
 },
 "nbformat": 4,
 "nbformat_minor": 0
}